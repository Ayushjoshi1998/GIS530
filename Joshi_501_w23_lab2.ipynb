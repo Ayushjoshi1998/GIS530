{
  "metadata": {
    "kernelspec": {
      "name": "python",
      "display_name": "Python (Pyodide)",
      "language": "python"
    },
    "language_info": {
      "codemirror_mode": {
        "name": "ipython",
        "version": 3
      },
      "file_extension": ".py",
      "mimetype": "text/x-python",
      "name": "python",
      "nbconvert_exporter": "python",
      "pygments_lexer": "ipython3",
      "version": "3.7.11"
    }
  },
  "nbformat_minor": 4,
  "nbformat": 4,
  "cells": [
    {
      "cell_type": "code",
      "source": "print('Hello Class!')",
      "metadata": {},
      "execution_count": 1,
      "outputs": [
        {
          "name": "stdout",
          "output_type": "stream",
          "text": "Hello Class!\n"
        }
      ]
    },
    {
      "cell_type": "markdown",
      "source": "# Lab 2\n## Solving Problems with Python\n\nThis lab is meant as a first step into the wonderful world of scripting. We're going to be focusing on solving problems using a fundamental element of flow control: the if/then statement.\n\nThe second half of this lab and next week's class will go over iteration and flow control (loops, etc.), but for the first half, you just need to think about the statement like this: \"*If* something is true, *then* do something; *if not* do something else.\"\n\nThe best way to understand that is with some hands on examples, so let's get started.",
      "metadata": {}
    },
    {
      "cell_type": "markdown",
      "source": "# But, first some housekeeping.\n\nThis lab should appear to you as a series of markdown and code boxes with which you can interact. **If** it appears as a statically rendered page (try clicking on a box), then you are not loading it within jupyter or arcgis. Let's talk about how you set up environments for a moment.\n\n\n## The following is how to set up your lab using anaconda. If you are using arcgis, please skip to the next section.\nI like to create a new environment for each lab. This keeps everything nice and tiday and makes sure that any conflicts between versions of libraries are handled 'automagically' (*usually*). But, I've also had students create a single environment for each class. Feel free to do either. For now, let's talk about how you create en environment.\n\n**I am assuming that you have anaconda installed and are able to get to the anaconda prompt**. If that is not the case, [go here and do so](https://www.anaconda.com/download/).\n\nWith your prompt staring at you, you can create an environment like so:\n`conda create -n lab2 python=3.7`\n\nThat tells conda to create an environment named (-n) lab2 and to install python version 3.7 with it. You could just as easily give it another name or a different version of python. Anaconda will go out and find all the packages necessary to do this and prompt you that you are sure you want to install them, you are. **Note: If you are using the ESRI python prompt, you may get an error if you try to use a version of python other than 3.8**\n\nOk, now once that's completed, it's time to activate your environment. You do so like so:\n\n**In windows:** `conda activate lab2`\n\n**In mac/linux:** `source activate lab2`\n\nYou should now have `(lab2)` to the left of your prompt. This means that you are in the environment you created. \n\nNow it's time to install the packages we'll need for this lab. In this case, we only need jupyter notebooks, so go ahead and type:\n`conda install jupyter`\n\nThis tells Anaconda to go out and find all the packages needed to run jupyter notebooks. You'll be prompted that you want to install them, you'll say yes again.\n\nOnce ***all that*** is done, type in `jupyter notebook` and a notebook application should launch in your web browser. At that point, simply navigate to this file and open it again. **Boom**, you're ready to go.\n\n#### This may seem like a lot, but with time it will become like second nature. I recommend taking some time now to play with Anaconda and Jupyter; they are both extremely useful tools that, along with github, will help you organize and create amazing scripts.\n\n\n---\n\n\n## Here are the instructions if you are choosing to remain within Arcgis (and its version of anaconda and jupyter).\n\nESRI, in their vast wisdom, both installs a version of anaconda to manage packages within Arcgis Pro's python environment(s) **and** now allows you to open notebooks directly within ArcGIS Pro.\n\nIf you want to use the command prompt, look for what ESRI calls the \"Python Command Prompt\" in your Windows Menu. It will load into what amounts to an anaconda prompt, but places you in a default `(arcgispro-py3)` environment. This means that anything you install (unless you change environments) will be included in the environment used by Arcgis Pro. This has benefits and dangers! You can both extend the functionality of python with ArcGIS Pro *and* potentially install something that doesn't work with core features of ArcGIS Pro. Fun!\n\nOnce you have the command prompt open, go to the directions above for anaconda. They are identical because... ESRI is just using a version of anaconda! Sneaky!\n\nIf you prefer to stick entirely to the GUI (not recommended, but you should find the path for coding that works best for you), **pages 229 to 250** of your textbook cover this topic. You can also read the ESRI documentation [here](https://pro.arcgis.com/en/pro-app/latest/arcpy/get-started/pro-notebooks.htm). \n\n---\n\n#### Of course, I'll be showing you **all** methods in class, so pay attention, review the videos, and read the documentation! \n\n#### Finally, think about your workflow. How will you *pull* things down from our class repository and *push* them up when you are done. **Set up your workflow now!**\n\n# Still with me, great. Let's look at `if` statements\n",
      "metadata": {}
    },
    {
      "cell_type": "code",
      "source": "x = 20\n\nprint(\"Checking your number...\")\nif x > 4:\n    print('The number is large!')\n",
      "metadata": {},
      "execution_count": 2,
      "outputs": [
        {
          "name": "stdout",
          "output_type": "stream",
          "text": "Checking your number...\n\nThe number is large!\n"
        }
      ]
    },
    {
      "cell_type": "markdown",
      "source": "### Ok, ok, ok.\nThat's pretty simple. True, but throughout this course you're going to learn how to use *relatively* simple concepts to break apart *seemingly* difficult problems to save time and energy and to accomplish some really neat things.\n\nAs you can see, the format for an if/then statement in python looks like:\n```python\nif [something]:\n    [do something]\n```\nThis seems trivial, but it's actually fairly fundamental - `if` allows you to tell a script to evaluate `[something]` and to perform a task **conditional upon that evaluation**.\n\nThink about it for a moment: If a set of data isn't in one project, reproject it. If files aren't in a directory, go get them. Etc.\n\n### Of course, what if we want it to do something `else`\n",
      "metadata": {}
    },
    {
      "cell_type": "code",
      "source": "x = 10\n\nprint('Checking your number...')\nif x > 20:\n    print('What a big number!')\nelse:\n    print(\"Not quite big enough, I'm afraid\")",
      "metadata": {},
      "execution_count": 3,
      "outputs": [
        {
          "name": "stdout",
          "output_type": "stream",
          "text": "Checking your number...\n\nNot quite big enough, I'm afraid\n"
        }
      ]
    },
    {
      "cell_type": "markdown",
      "source": "### Simple enough.\n\nNow, let's introduce `elif` which stands for \"else if...\"\n\nBasically, this allows you to chain a bunch of `if` statements together. Bearing in mind, **ONLY THE FIRST STATEMENT THAT EVALUATES TO TRUE WILL BE PERFORMED**.\n\nLet's look at this:",
      "metadata": {}
    },
    {
      "cell_type": "code",
      "source": "x = 16\n\nprint('Checking your number...')\nif x > 20:\n    print('What a big number!')\nelif x > 15:\n    print('Pretty big!')\nelif x > 10:\n    print('This is a fine number')\nelse:\n    print('This number is too small')",
      "metadata": {},
      "execution_count": 4,
      "outputs": [
        {
          "name": "stdout",
          "output_type": "stream",
          "text": "Checking your number...\n\nPretty big!\n"
        }
      ]
    },
    {
      "cell_type": "markdown",
      "source": "#### Note how *only* the second elif was performed.\n\nIn other words, even though x **is** greater than 10 as well, only the code after `x > 15` was performed.\n\n**This is important, so I'll say it again in big letters:**\n### Only the first statement that evaluates to true will be performed.\n\nAnd with that, we're ready to start our lab. *No, seriously,* this is about learning to break apart difficult problems using relatively simple computational tools. We're ready to start!\n\n### Finally, remember to review your readings for this week (found on Canvas). They cover all of this material directly.",
      "metadata": {}
    },
    {
      "cell_type": "markdown",
      "source": "## Problem 1: Can I sleep?\n\nIn this fairly classic problem (so, *yes*, if you feel like it you can easily look up the answer), I'm going to give you three lists. Each list contains two values. The first value is whether it is a weekday or not. The second value is if I am on vacation or not. Your goal is to output whether or not I can sleep in.\n\nAn example will help.\n\n`[True, False]` would mean that it is a weekday and I am not on vacation. **Uh oh, better get up!**\n\n`[False, False]` would mean I am not on vacation, but it also isn't a weekday. **Sleep in!**\n\nNow, of course, all of this is a bit contrived as with kids there is never any sleeping in, but it's an exercise in evaluating boolean logic.",
      "metadata": {}
    },
    {
      "cell_type": "code",
      "source": "x = [False, True]\ny = [True, True]\nz = [True, False]\n\nlist = [x,y,z]\n\nif list == [False,False]:\n    print('You can sleep in')\nelse: \n    print ('You cant sleep in')\n    ",
      "metadata": {
        "trusted": true
      },
      "execution_count": null,
      "outputs": []
    },
    {
      "cell_type": "markdown",
      "source": "## Problem 2: Odd addition.\n\nAnother classic with a twist. Here, I'm going to give you three lists of two numbers. What I want you to do is write a script that checks each pair of numbers and *if both numbers are odd* multiplies them and prints the result. Otherwise, it prints the result of adding both numbers.\n\nExample: `[3, 5]` would return `15`.\n\nWhile: `[3, 6]`would return `9`.\n\nHint: Look up the modulo operator in python (it's in your lecture as well).",
      "metadata": {}
    },
    {
      "cell_type": "code",
      "source": "a = [7, 9]\nb = [10, 3]\nc = [2, 5]\n\nmylist = [a,b,c]\n\nfor i in mylist:\n    \n    if i[0] % 2 != 0 and i[1] % 2 != 0:\n        print(i[0]*i[1])\n        \n    else:\n        print(i[0]+i[1])",
      "metadata": {
        "trusted": true
      },
      "execution_count": null,
      "outputs": []
    },
    {
      "cell_type": "markdown",
      "source": "## Problem 3: Twenty One.\n\nHere's a nice relaxing final problem.\nI'll give you two numbers, return `True` if they add up to 21, return `False` if they don't; however, if the numbers are identical, return the string \"Split\".",
      "metadata": {}
    },
    {
      "cell_type": "code",
      "source": "p = [19, 2]\nq = [7, 7]\nr = [4, 6]\n\nnumList = [p, q, r]\n\nfor x in numList:\n    if x[0] + x[1] == 21:\n        print('True')\n    elif x[0] == x[1]:\n        print('Split')\n    else:\n        print('False')",
      "metadata": {
        "trusted": true
      },
      "execution_count": null,
      "outputs": []
    },
    {
      "cell_type": "markdown",
      "source": "## Problem 4: Is it even?\n\nWrite a script that asks the user for a number and then prints out whether the number is even or not. Hint: Think about if/then statements and how you check for the remainder of a something.\n\nNote: For this problem, assume that the user inputs an actual number.\n\n**Bonus Possible:** Don't assume your user gives a valid input. Instead, build some form of error catching that continues to ask for an input *until* the user gives a number. **+1 pt**",
      "metadata": {}
    },
    {
      "cell_type": "code",
      "source": "while True:\n    number = input('Please enter a number! ')\n    try:\n        if int(number)%2 == 1:\n            print('Its Odd!')\n            break\n        elif int(number)%2 == 0:\n            print('Its Even!')\n            break\n    except:\n        print('Invalid number, please enter an Integer')",
      "metadata": {
        "trusted": true
      },
      "execution_count": null,
      "outputs": []
    },
    {
      "cell_type": "markdown",
      "source": "### Bonus Problem 1: Find the square root (+2 pts possible)\n\nWrite a script that asks the user to input a number and then finds the square root of said number within .001. You may assume that the input is a valid number; however, you may not use the built in commands to find square roots (such as sqrt()) or x**(1/2)). **Instead, you must use only multiplication, division, addition, and subtraction (you may also use absolute value)**.\n\nPay attention to how many iterations your solution takes. There is an optimal solution here; however, don't look it up, instead spend some time thinking about how you might 'guess' a number. Use nested loops if you need to. Partial credit is not possible.",
      "metadata": {}
    },
    {
      "cell_type": "code",
      "source": "while True:\n    number = input('Please enter a number!')  \n    try:\n        if float(number) == x*x:\n            print(x)\n            break\n    except:\n        print('Invalid input')",
      "metadata": {},
      "execution_count": null,
      "outputs": []
    },
    {
      "cell_type": "markdown",
      "source": "# Checkpoint 1\n#### You should have up until this point completed by the start of the second class (1/21/21). It's ok if some things aren't quite working yet, but you really should be to this point if at all possible. \n#### You will receive 2 points (out of a total of 15 for the lab) for being at this checkpoint.\n\n---",
      "metadata": {}
    },
    {
      "cell_type": "markdown",
      "source": "# Lab 1 - Week 2\n## Iteration, data parsing, and the like\n\nThis week, we're not yet focusing on spatial data (or arcgis) quite yet, but instead really diving into some of the core concepts with coding and automation - namely the ability to parse and manipulate data through iteration and flow control.\n\nAs always, spend some time reading through the lab and thinking about how to break apart each 'chunk' of the problem into something small. Some of these problems will have immediate applied uses, while others will simply be asking you to think computationally – about what you can and cannot solve using Python and how it might be used in a variety of generalized tasks. You will also gain familiarity with the specific syntax of the Python language.\n\nThere are a wide variety of articles, guides, tutorials, and reference materials available on the Python language. You’re encouraged to read through many of these and refer to them when you run into difficulty. Make sure you understand why any solution works or you will run into significant difficulties later. **But, never forget your assigned readings and lectures. They will be extremely useful as references**.\n\nAs always, you'll turn your lab in [here](https://github.com/UWTMGIS/TGIS501_w21_Students/tree/master/lab2). File format remains `[lastname]_lab2.ipynb`\n\n### Ready, then let's goooooo.",
      "metadata": {}
    },
    {
      "cell_type": "markdown",
      "source": "## Problem 5: Is GIS really *the best*?\n\n### Part 1\nIn the files repository, you'll find a file called `GIS_is_the_best.txt`. You're going to open that file and count the **total** number of words in it.\n\nThere are a few approaches to this. You can load the file directly from the web (which we'll cover in a later lab, but if you feel like diving in, check out this [stack overflow discussion](https://stackoverflow.com/questions/1393324/in-python-given-a-url-to-a-text-file-what-is-the-simplest-way-to-read-the-cont) or [this module](http://docs.python-requests.org/en/master/). I find the latter easier to work with, but your mileage may vary). **Alternatively**, simply move the file to a local directory and open it like so:\n\n```python\nwith open('file location', 'r') as file:\n    #do some stuff\n```\n\nThen, you need to count the total number of words used.\nA few hints for this:\n1. Here's a nice [tutorial](https://www.pythonforbeginners.com/files/reading-and-writing-files-in-python) on dealing with text files.\n2. Remember list comprehension (**check your readings!**): how are you going to count words?\n3. the .upper(), .lower(), and .split() methods all might be useful.\n\n#### In summary, your next cell should load up the text file and print out the total number of words in it (it should be 28,177).",
      "metadata": {}
    },
    {
      "cell_type": "code",
      "source": "file = open('GIS_is_the_best.txt', 'r')\ndata = file.read().split()\nx = 0\nfor y in data:\n    x += 1\nprint(x)\n    ",
      "metadata": {},
      "execution_count": null,
      "outputs": []
    },
    {
      "cell_type": "markdown",
      "source": "### Part 2\n\nNow it's time to find out what the most common word in that file is. This is a fairly fundamental task of parsing data, so it's good practice (also, I'll ask you to do it again in a slightly more complicated way below). \n\nOpen the file again and, *this time*, return the two most common words **and** how many times they have been used.\n\nThere's one additional thing to note: capitalization doesn't matter. So, GIS, gis, and Gis should all be counted the same. Similarly, Geospatial and geospatial would be the same. Here, the .upper() or .lower() method can help you.\n\n#### In summary, your next cell should output the two most common words in the text file and how many times it appears.",
      "metadata": {}
    },
    {
      "cell_type": "code",
      "source": "words = {}\n\nfor i in data:\n    i = i.lower()\n    if i in words:\n        words[i] += 1\n    else:\n        words[i] = 1\n\nmv = max(words.values())\n\nfor j in words:\n    if words[j] == mv:\n        print(str(j) + ' was used ' + str(words[j]) + ' times.')",
      "metadata": {
        "trusted": true
      },
      "execution_count": null,
      "outputs": []
    },
    {
      "cell_type": "markdown",
      "source": "## Problem 6: A 'love' of Lovecraft\n\nOk, first, let's get it out of the way: H.P. Lovecraft was a disgusting racist. We're using this text because it's in the public domain and uses a lot of unique words, but let's not take our eyes off the prize; this is not an endorsement of the author.\n\nWith that out of the way, you'll find a .txt copy of *The Shunned House* in the same files repository where you found this lab. Just like before, you can pull the files down locally or (try to) access them through the web (which will be covered in detail in a later lab).\n\n### Part 1\n\nHere, I want you to count the **number of unique words** in the text. \nA few directions:\n1. Case **does not** matter - so 'Whisker' should be the same as 'whisker.'\n2. Make sure you strip out punctuation - otherwise 'whisker?' and 'whisker!' will come back as different words.\n3. Plurals are different words in this exercise - 'whiskers' and 'whisker' count separately.\n\nA few hints:\n1. Check out the [collections](https://docs.python.org/2/library/collections.html#collections) module.\n2. One way to do this would be to create a dictionary of each word and then check the dictionaries length.\n3. You should get around 3,000 words depending on what assumptions you bake into this. There's no austere 'right' answer as the directions are a bit opaque intentionally (design decisions matter!).\n4. If you want to get *real* fancy, students in the past have made use of NLTK to do this. If that seems overwhelming, *don't worry!* Remember, different people will have different familiarities with python. Right now, **you have all the tools you need to do this**, there's just always 'more' possible!\n\n#### In summary, your next cell should output how many unique words Lovecraft uses in the copy of the Shunned House I have provided. ",
      "metadata": {}
    },
    {
      "cell_type": "code",
      "source": "import collections\nimport string\nimport nltk\n\nfile = open('shunned_house.txt', 'r')\n\ndata = file.read().split()\nwords = {}\n\nfor s in data:\n    s = s.translate(s.maketrans('', '', string.punctuation))\n\nfor i in data:\n    i = i.lower()\n    if i in words:\n        words[i] += 1\n    else:\n        words[i] = 1\n\nprint(len(words))",
      "metadata": {},
      "execution_count": null,
      "outputs": []
    },
    {
      "cell_type": "markdown",
      "source": "### Part 2\n\nExcluding prepositions ('from,' 'the,' 'an', 'with', 'a', etc.) what are the five most frequently used words in *The Shunned House* and how many times does each appear?\n\n#### In summary, your next cell should output the five most common non-prepositions in the text provided.",
      "metadata": {}
    },
    {
      "cell_type": "code",
      "source": "preps = ['a', 'about', 'above', 'across', 'after', 'against', 'along', 'amid', 'amidst', 'among', 'amongst', 'an', 'and', 'around', 'as', 'at', 'atop', 'before', 'behind', 'below', 'beneath', 'beside', 'besides', 'between', 'beyond', 'but', 'by', 'down', 'during', 'ere', 'except', 'for', 'from', 'how', 'i', 'in', 'if', 'it', 'into', 'less', 'like', 'near', 'of', 'on', 'onto', 'out', 'over', 'per', 'since', 'than', 'that', 'the', 'then', 'through', 'till','to', 'toward', 'towards', 'under', 'until', 'unto', 'up', 'upon', 'via', 'which', 'with', 'when', 'who', 'where', 'why', 'you']\n\nfor i in words.copy():\n    if i in preps:\n        del words[i]\n        \ncollections.Counter(words).most_common(5)",
      "metadata": {},
      "execution_count": null,
      "outputs": []
    },
    {
      "cell_type": "markdown",
      "source": "### Part 3\n\nOk, last Lovecraft; I promise.\n\nLast time, we counted the words he loved to use and how he used them. But, Lovecraft is also known for his lugubrious sentences, the long-winding means by which he tells us his terrible tales. I’m interested in how many characters his average sentence is. I’d also like a printed copy of the longest sentence and the shortest sentence in The Shunned House.\n\nThink about how you opened the file, read it, and parsed it into a list last time… *What means do you have to count the character length of objects? What format do those objects have to be?* Etc.\n\nThis question will help you think about ways to parse through and iterate over different types of data sets (in this case a text file).\n\nHint: In the past, some students have used [nltk](https://pythonspot.com/category/nltk/) to solve this problem; **it is not necessary**.",
      "metadata": {}
    },
    {
      "cell_type": "code",
      "source": "import nltk\nfrom nltk.tokenize import sent_tokenize\n\nfile = open('shunned_house.txt', 'r')\n\nsentences = sent_tokenize(file.read())\n\nlength = []\n\n\nfor w in sentences:\n    length.append(len(w))\n\nprint('The average sentence in H.P. Lovecraft\\'s \"Shunned House\" has about ' + str(int(sum(length)/len(length))) + ' characters.')\n\nsentLength = {}\n\nfor x in sentences:\n    sentLength[x] = len(x)\n\nmaxValue = max(sentLength.values())\n    \nfor y in sentLength:\n    if sentLength[y] == maxValue:\n        print(str(y))\n        print('The longest sentence has ' + str(sentLength[y]) + ' characters.')\n\nminValue = min(sentLength.values())\n\nfor z in sentLength:\n    if sentLength[z] == minValue:\n        print(str(z))\n        print('The shortest sentence has ' + str(sentLength[z]) + ' characters.')",
      "metadata": {},
      "execution_count": null,
      "outputs": []
    },
    {
      "cell_type": "markdown",
      "source": "### Bonus Problem 2: Vowel Squares (+2 pts possible)\nThis is a bit of a 'classic' problem. I'm going to give you a two-dimensional matrix of letters. You need to analyze said matrix to see if within it there exists a 2 by 2 grid of all vowels (hint: there is). If so, you print out the members of that grid; if not, you print out \"No match found.\"\n\nIn other words, I'm going to give you something like this:\n\na b c d e f\n\ng h i j k l\n\n**a a** k e v o\n\n**i o** e r p z\n\nAnd, you'd need to return a a i o.\n\n**THIS IS HARD**. Work together! Don't look up a solution, do think about how you might parse through this. There are many solutions, one I might consider is creating a new matrix that simple records if something is a vowel or not (i.e. a 1 value for a vowel, a 0 for not, etc.). *Partial credit is possible*.",
      "metadata": {}
    },
    {
      "cell_type": "code",
      "source": "letters = [['a', 'j', 'k', 'e', 'i'], ['b', 'o', 'e', 'n', 'a'], ['u', 'i', 'a', 'z', 'i'] ]\n",
      "metadata": {},
      "execution_count": 3,
      "outputs": []
    },
    {
      "cell_type": "markdown",
      "source": "---\n\n# No-credit, fun times\n## Want to build a chatbot?\n\nThis isn't really related to anything we're doing in class per se, but it's a fun example of how powerful libraries can be in python.\n\nIn this case, I'm going show you how to use the library [markovify](https://github.com/jsvine/markovify) to generate 10 short sentences from any lengthy piece of text you want to (I'm always partial to Capital Vol 1, but you can use the Lovecraft selection you already have, or anything you want - it just has to be pretty long). I'll be using the Lovecraft here, just because it's on hand and you'll be able to follow note for note.\n\nMarkovify has directions at the link above which are pretty straightforward. But, I'll also give you example code below. Poke at it, change some things up! Did you know you can combine texts (and even weight them differently) to produce different 'voices.' This is an incredibly simple model, but it's a lot of fun. If you'd like to see where the state of the art is right now, check out [GPT-3](https://github.com/openai/gpt-3) or the API for it [here](https://openai.com/blog/openai-api/)).\n\nOnce you get the hang of it (changing texts, sentence length, etc.), go look at the documentation linked above. You'll find lots of ways to tweak the output - from changing the depth of the search (roughly how many words must be strung together in the model) to weighting different texts differently.",
      "metadata": {}
    },
    {
      "cell_type": "code",
      "source": "import markovify\n",
      "metadata": {},
      "execution_count": 1,
      "outputs": []
    },
    {
      "cell_type": "code",
      "source": "#note I'm assuming that the text file is in the same directory as the notebook; this need not be the case.\nwith open('shunned_house.txt') as f:\n    text = f.read()\n    \nmodel = markovify.Text(text)\n\nfor i in range(10):\n    print(model.make_short_sentence(240))\n    print()",
      "metadata": {},
      "execution_count": 3,
      "outputs": [
        {
          "name": "stdout",
          "output_type": "stream",
          "text": "The space south of the house was repulsively damp even in dry weather, and in time I yielded to my eyes.\n\n\n\nIt was of this sinister vegetation, but at the window.\n\n\n\nIn 1780, as a symbol of all dreamable hideousness which the family data my uncle in his sleep attracted my notice.\n\n\n\nThere are horrors beyond horrors, and this was one of those vital processes, worn as they were by eighty- one years of deposit had shrouded and festooned into monstrous and hellish shapes.\n\n\n\nThe Roulets, it seemed, had come in 1686, after the revocation of the wild ancient tales of the fungus-ridden earth steamed up a precipitous lawn from the placid sidewalk outside.\n\n\n\nHe died the next morning at the cellar directly upon Benefit Street, preferring to have a more immediate access to the fungous floor where a pool of greenish grease was spreading, it seemed to hear of the house proper.\n\n\n\nAs I turned my electric flashlight on him and his wife Rhoby Dexter, with their children, Elkanah, born in 1755, Abigail, born in 1755, Abigail, born in 1761.\n\n\n\n* * * The blinding maelstrom of greenish-yellow vapor which as it continued we found no promise of pertinent developments.\n\n\n\nHarris was a comprehensive history of the hole was emitting no fresh vapors.\n\n\n\nWhen I told Harris only through sheer absurdity.\n\n\n"
        }
      ]
    },
    {
      "cell_type": "markdown",
      "source": "---\n\nThe next step, for example, might be to set up a listener to a twitter account that monitors for either someone mentioning the author or someone tweeting at the account or... whatever. Then your little bot could respond. We'll get to how you might do that later in the course, for now, just have some fun.",
      "metadata": {}
    },
    {
      "cell_type": "code",
      "source": "",
      "metadata": {},
      "execution_count": null,
      "outputs": []
    }
  ]
}